{
 "cells": [
  {
   "cell_type": "code",
   "execution_count": 1,
   "metadata": {},
   "outputs": [],
   "source": [
    "#dependencies\n",
    "import pandas as pd\n",
    "import numpy as np"
   ]
  },
  {
   "cell_type": "code",
   "execution_count": 2,
   "metadata": {},
   "outputs": [],
   "source": [
    "folder = 'source_csv_files/'"
   ]
  },
  {
   "cell_type": "code",
   "execution_count": 3,
   "metadata": {},
   "outputs": [],
   "source": [
    "#import csv file for US data\n",
    "us_df = pd.read_csv(folder + 'USvideos.csv')\n",
    "us_df['Country Code'] = 'US' #add country code"
   ]
  },
  {
   "cell_type": "code",
   "execution_count": 4,
   "metadata": {},
   "outputs": [],
   "source": [
    "#import csv file for RU data\n",
    "#ru_df = pd.read_csv(folder + 'RUvideos.csv')\n",
    "#ru_df['Country Code'] = 'RU' #add country code\n",
    "#the data is not encoded in utf-8 format \n",
    "#need to figure out encoding"
   ]
  },
  {
   "cell_type": "code",
   "execution_count": 5,
   "metadata": {},
   "outputs": [],
   "source": [
    "#import csv file for MX data\n",
    "#mx_df = pd.read_csv(folder + 'MXvideos.csv')\n",
    "#mx_df['Country Code'] = 'MX' #add country code\n",
    "#same problem as ru data"
   ]
  },
  {
   "cell_type": "code",
   "execution_count": 6,
   "metadata": {},
   "outputs": [],
   "source": [
    "#import csv file for CA data\n",
    "ca_df = pd.read_csv(folder + 'CAvideos.csv')\n",
    "ca_df['Country Code'] = 'CA'"
   ]
  },
  {
   "cell_type": "code",
   "execution_count": 7,
   "metadata": {},
   "outputs": [],
   "source": [
    "#import csv file for DE data\n",
    "de_df = pd.read_csv(folder + 'DEvideos.csv')\n",
    "de_df['Country Code'] = 'DE'"
   ]
  },
  {
   "cell_type": "code",
   "execution_count": 8,
   "metadata": {},
   "outputs": [],
   "source": [
    "#import csv file for FR data\n",
    "fr_df = pd.read_csv(folder + 'FRvideos.csv')\n",
    "fr_df['Country Code'] = 'FR'"
   ]
  },
  {
   "cell_type": "code",
   "execution_count": 9,
   "metadata": {},
   "outputs": [],
   "source": [
    "#import csv file for GB data\n",
    "gb_df = pd.read_csv(folder + 'GBvideos.csv')\n",
    "gb_df['Country Code'] = 'GB'"
   ]
  },
  {
   "cell_type": "code",
   "execution_count": 10,
   "metadata": {},
   "outputs": [],
   "source": [
    "#import csv file for IN data\n",
    "in_df = pd.read_csv(folder + 'INvideos.csv')\n",
    "in_df['Country Code'] = 'IN'"
   ]
  },
  {
   "cell_type": "code",
   "execution_count": 11,
   "metadata": {},
   "outputs": [],
   "source": [
    "#import csv file for JP data\n",
    "#jp_df = pd.read_csv(folder + 'JPvideos.csv')\n",
    "#jp_df['Country Code'] = 'JP'\n",
    "#same issue as RU data"
   ]
  },
  {
   "cell_type": "code",
   "execution_count": 12,
   "metadata": {},
   "outputs": [],
   "source": [
    "#import csv file for KR data\n",
    "#kr_df = pd.read_csv(folder + 'KRvideos.csv')\n",
    "#kr_df['Country Code'] = 'KR'\n",
    "#same problem as RU data"
   ]
  },
  {
   "cell_type": "code",
   "execution_count": 13,
   "metadata": {},
   "outputs": [],
   "source": [
    "#list of all dfs\n",
    "dfs = [us_df, ca_df, de_df, fr_df, gb_df, in_df] #will need to add the below dfs once the encoding issue is resolved\n",
    "#ru_df, mx_df, jp_df, kr_df"
   ]
  },
  {
   "cell_type": "code",
   "execution_count": 14,
   "metadata": {},
   "outputs": [],
   "source": [
    "#concate all pds together into a single df\n",
    "df = pd.concat(dfs)\n",
    "#remove columns we won't be looking at\n",
    "df = df.drop(['channel_title', 'title', 'thumbnail_link', 'description', 'tags', \n",
    "              'comments_disabled', 'ratings_disabled'], axis=1)"
   ]
  },
  {
   "cell_type": "code",
   "execution_count": 15,
   "metadata": {},
   "outputs": [],
   "source": [
    "df.to_csv('data/combined_data.csv')"
   ]
  },
  {
   "cell_type": "code",
   "execution_count": null,
   "metadata": {},
   "outputs": [],
   "source": []
  },
  {
   "cell_type": "code",
   "execution_count": null,
   "metadata": {},
   "outputs": [],
   "source": []
  }
 ],
 "metadata": {
  "kernelspec": {
   "display_name": "Python 3",
   "language": "python",
   "name": "python3"
  },
  "language_info": {
   "codemirror_mode": {
    "name": "ipython",
    "version": 3
   },
   "file_extension": ".py",
   "mimetype": "text/x-python",
   "name": "python",
   "nbconvert_exporter": "python",
   "pygments_lexer": "ipython3",
   "version": "3.7.3"
  }
 },
 "nbformat": 4,
 "nbformat_minor": 2
}
