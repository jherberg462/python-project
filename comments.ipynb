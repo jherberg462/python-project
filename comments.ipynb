{
 "cells": [
  {
   "cell_type": "code",
   "execution_count": 1,
   "metadata": {},
   "outputs": [],
   "source": [
    "#dependencies\n",
    "import pandas as pd\n",
    "import numpy as np\n",
    "%matplotlib inline\n",
    "import matplotlib.pyplot as plt\n",
    "import scipy.stats as stats\n",
    "import seaborn as sns"
   ]
  },
  {
   "cell_type": "code",
   "execution_count": 2,
   "metadata": {},
   "outputs": [
    {
     "data": {
      "text/html": [
       "<div>\n",
       "<style scoped>\n",
       "    .dataframe tbody tr th:only-of-type {\n",
       "        vertical-align: middle;\n",
       "    }\n",
       "\n",
       "    .dataframe tbody tr th {\n",
       "        vertical-align: top;\n",
       "    }\n",
       "\n",
       "    .dataframe thead th {\n",
       "        text-align: right;\n",
       "    }\n",
       "</style>\n",
       "<table border=\"1\" class=\"dataframe\">\n",
       "  <thead>\n",
       "    <tr style=\"text-align: right;\">\n",
       "      <th></th>\n",
       "      <th>Unnamed: 0</th>\n",
       "      <th>video_id</th>\n",
       "      <th>trending_date</th>\n",
       "      <th>category_id</th>\n",
       "      <th>publish_time</th>\n",
       "      <th>views</th>\n",
       "      <th>likes</th>\n",
       "      <th>dislikes</th>\n",
       "      <th>comment_count</th>\n",
       "      <th>video_error_or_removed</th>\n",
       "      <th>Country Code</th>\n",
       "    </tr>\n",
       "  </thead>\n",
       "  <tbody>\n",
       "    <tr>\n",
       "      <th>0</th>\n",
       "      <td>0</td>\n",
       "      <td>2kyS6SvSYSE</td>\n",
       "      <td>17.14.11</td>\n",
       "      <td>22</td>\n",
       "      <td>2017-11-13T17:13:01.000Z</td>\n",
       "      <td>748374</td>\n",
       "      <td>57527</td>\n",
       "      <td>2966</td>\n",
       "      <td>15954</td>\n",
       "      <td>False</td>\n",
       "      <td>US</td>\n",
       "    </tr>\n",
       "  </tbody>\n",
       "</table>\n",
       "</div>"
      ],
      "text/plain": [
       "   Unnamed: 0     video_id trending_date  category_id  \\\n",
       "0           0  2kyS6SvSYSE      17.14.11           22   \n",
       "\n",
       "               publish_time   views  likes  dislikes  comment_count  \\\n",
       "0  2017-11-13T17:13:01.000Z  748374  57527      2966          15954   \n",
       "\n",
       "   video_error_or_removed Country Code  \n",
       "0                   False           US  "
      ]
     },
     "execution_count": 2,
     "metadata": {},
     "output_type": "execute_result"
    }
   ],
   "source": [
    "#import data from combined csv\n",
    "df = pd.read_csv('data/cleaned_data.csv')\n",
    "#df = df.drop(['Unnamed: 0', 'Unnamed: 0.1'], axis=1)\n",
    "df.head(1)"
   ]
  },
  {
   "cell_type": "code",
   "execution_count": 3,
   "metadata": {},
   "outputs": [],
   "source": [
    "#find the max values of views, likes, dislikes, and comments for each video_id\n",
    "df = pd.DataFrame(df.groupby(['video_id']).max())"
   ]
  },
  {
   "cell_type": "code",
   "execution_count": 4,
   "metadata": {},
   "outputs": [
    {
     "data": {
      "text/html": [
       "<div>\n",
       "<style scoped>\n",
       "    .dataframe tbody tr th:only-of-type {\n",
       "        vertical-align: middle;\n",
       "    }\n",
       "\n",
       "    .dataframe tbody tr th {\n",
       "        vertical-align: top;\n",
       "    }\n",
       "\n",
       "    .dataframe thead th {\n",
       "        text-align: right;\n",
       "    }\n",
       "</style>\n",
       "<table border=\"1\" class=\"dataframe\">\n",
       "  <thead>\n",
       "    <tr style=\"text-align: right;\">\n",
       "      <th></th>\n",
       "      <th>Unnamed: 0</th>\n",
       "      <th>trending_date</th>\n",
       "      <th>category_id</th>\n",
       "      <th>publish_time</th>\n",
       "      <th>views</th>\n",
       "      <th>likes</th>\n",
       "      <th>dislikes</th>\n",
       "      <th>comment_count</th>\n",
       "      <th>video_error_or_removed</th>\n",
       "      <th>Country Code</th>\n",
       "      <th>outliers</th>\n",
       "    </tr>\n",
       "    <tr>\n",
       "      <th>video_id</th>\n",
       "      <th></th>\n",
       "      <th></th>\n",
       "      <th></th>\n",
       "      <th></th>\n",
       "      <th></th>\n",
       "      <th></th>\n",
       "      <th></th>\n",
       "      <th></th>\n",
       "      <th></th>\n",
       "      <th></th>\n",
       "      <th></th>\n",
       "    </tr>\n",
       "  </thead>\n",
       "  <tbody>\n",
       "    <tr>\n",
       "      <th>--1skHapGUc</th>\n",
       "      <td>297735</td>\n",
       "      <td>18.10.02</td>\n",
       "      <td>24</td>\n",
       "      <td>2018-02-09T19:04:43.000Z</td>\n",
       "      <td>30914</td>\n",
       "      <td>483</td>\n",
       "      <td>77</td>\n",
       "      <td>81</td>\n",
       "      <td>False</td>\n",
       "      <td>MX</td>\n",
       "      <td>False</td>\n",
       "    </tr>\n",
       "  </tbody>\n",
       "</table>\n",
       "</div>"
      ],
      "text/plain": [
       "             Unnamed: 0 trending_date  category_id              publish_time  \\\n",
       "video_id                                                                       \n",
       "--1skHapGUc      297735      18.10.02           24  2018-02-09T19:04:43.000Z   \n",
       "\n",
       "             views  likes  dislikes  comment_count  video_error_or_removed  \\\n",
       "video_id                                                                     \n",
       "--1skHapGUc  30914    483        77             81                   False   \n",
       "\n",
       "            Country Code  outliers  \n",
       "video_id                            \n",
       "--1skHapGUc           MX     False  "
      ]
     },
     "execution_count": 4,
     "metadata": {},
     "output_type": "execute_result"
    }
   ],
   "source": [
    "#find outliers for number of views\n",
    "views_q1 = np.percentile(df[\"comment_count\"], 25) #find lower and upper quartiles \n",
    "views_q3 = np.percentile(df['comment_count'], 75)\n",
    "views_qrange = (views_q3 - views_q1) #find interquartile range\n",
    "views_lower =  views_q1 - (1.5 * views_qrange) #lower boundry\n",
    "views_upper = views_q3 + (1.5 * views_qrange) #upper boundry\n",
    "df['outliers'] = (df['comment_count'] < views_lower) | (df['comment_count'] > views_upper) #find outliers\n",
    "df = df[df['outliers'] == False]\n",
    "df.head(1)"
   ]
  },
  {
   "cell_type": "code",
   "execution_count": 5,
   "metadata": {},
   "outputs": [
    {
     "data": {
      "image/png": "[encoded data removed]",
      "text/plain": [
       "<Figure size 720x360 with 1 Axes>"
      ]
     },
     "metadata": {
      "needs_background": "light"
     },
     "output_type": "display_data"
    }
   ],
   "source": [
    "figure, ax = plt.subplots(figsize=(10,5))\n",
    "figure = sns.distplot(df[\"comment_count\"], color=\"yellow\",kde=False,ax=ax)\n",
    "figure = ax.set(xlabel=\"comment_count\", ylabel=\"No. of videos\")\n",
    "figure = plt.xticks(rotation=90)\n",
    "plt.grid(axis='both')\n",
    "plt.xlim(df[\"comment_count\"].min(),df[\"comment_count\"].max())\n",
    "plt.show(figure)"
   ]
  },
  {
   "cell_type": "code",
   "execution_count": 7,
   "metadata": {},
   "outputs": [
    {
     "data": {
      "image/png": "[encoded data removed]",
      "text/plain": [
       "<Figure size 720x360 with 1 Axes>"
      ]
     },
     "metadata": {
      "needs_background": "light"
     },
     "output_type": "display_data"
    }
   ],
   "source": [
    "figure, ax = plt.subplots(figsize=(10,5))\n",
    "figure = sns.distplot(df[df[\"comment_count\"] < 3000][\"comment_count\"], color=\"yellow\",kde=False,\n",
    "                      ax=ax)\n",
    "figure = ax.set(xlabel=\"comment_count\", ylabel=\"No. of videos\")\n",
    "plt.grid(axis='both')\n",
    "plt.show(figure)"
   ]
  },
  {
   "cell_type": "code",
   "execution_count": null,
   "metadata": {},
   "outputs": [],
   "source": []
  },
  {
   "cell_type": "code",
   "execution_count": null,
   "metadata": {},
   "outputs": [],
   "source": []
  }
 ],
 "metadata": {
  "kernelspec": {
   "display_name": "Python 3",
   "language": "python",
   "name": "python3"
  },
  "language_info": {
   "codemirror_mode": {
    "name": "ipython",
    "version": 3
   },
   "file_extension": ".py",
   "mimetype": "text/x-python",
   "name": "python",
   "nbconvert_exporter": "python",
   "pygments_lexer": "ipython3",
   "version": "3.7.3"
  }
 },
 "nbformat": 4,
 "nbformat_minor": 2
}
