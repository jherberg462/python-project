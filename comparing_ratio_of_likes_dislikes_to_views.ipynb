{
 "cells": [
  {
   "cell_type": "code",
   "execution_count": 1,
   "metadata": {},
   "outputs": [],
   "source": [
    "#dependencies\n",
    "import pandas as pd\n",
    "import numpy as np\n",
    "import matplotlib.pyplot as plt\n",
    "import scipy.stats as stats"
   ]
  },
  {
   "cell_type": "code",
   "execution_count": 2,
   "metadata": {},
   "outputs": [],
   "source": [
    "#ignore warnings\n",
    "import warnings\n",
    "warnings.filterwarnings('ignore')"
   ]
  },
  {
   "cell_type": "code",
   "execution_count": 3,
   "metadata": {},
   "outputs": [
    {
     "data": {
      "text/html": [
       "<div>\n",
       "<style scoped>\n",
       "    .dataframe tbody tr th:only-of-type {\n",
       "        vertical-align: middle;\n",
       "    }\n",
       "\n",
       "    .dataframe tbody tr th {\n",
       "        vertical-align: top;\n",
       "    }\n",
       "\n",
       "    .dataframe thead th {\n",
       "        text-align: right;\n",
       "    }\n",
       "</style>\n",
       "<table border=\"1\" class=\"dataframe\">\n",
       "  <thead>\n",
       "    <tr style=\"text-align: right;\">\n",
       "      <th></th>\n",
       "      <th>Unnamed: 0</th>\n",
       "      <th>Unnamed: 0.1</th>\n",
       "      <th>video_id</th>\n",
       "      <th>trending_date</th>\n",
       "      <th>category_id</th>\n",
       "      <th>publish_time</th>\n",
       "      <th>views</th>\n",
       "      <th>likes</th>\n",
       "      <th>dislikes</th>\n",
       "      <th>comment_count</th>\n",
       "      <th>Country Code</th>\n",
       "      <th>Days to trend</th>\n",
       "    </tr>\n",
       "  </thead>\n",
       "  <tbody>\n",
       "    <tr>\n",
       "      <th>0</th>\n",
       "      <td>0</td>\n",
       "      <td>0</td>\n",
       "      <td>2kyS6SvSYSE</td>\n",
       "      <td>2017-11-14</td>\n",
       "      <td>22</td>\n",
       "      <td>2017-11-13</td>\n",
       "      <td>748374</td>\n",
       "      <td>57527</td>\n",
       "      <td>2966</td>\n",
       "      <td>15954</td>\n",
       "      <td>US</td>\n",
       "      <td>1 days 00:00:00.000000000</td>\n",
       "    </tr>\n",
       "  </tbody>\n",
       "</table>\n",
       "</div>"
      ],
      "text/plain": [
       "   Unnamed: 0  Unnamed: 0.1     video_id trending_date  category_id  \\\n",
       "0           0             0  2kyS6SvSYSE    2017-11-14           22   \n",
       "\n",
       "  publish_time   views  likes  dislikes  comment_count Country Code  \\\n",
       "0   2017-11-13  748374  57527      2966          15954           US   \n",
       "\n",
       "               Days to trend  \n",
       "0  1 days 00:00:00.000000000  "
      ]
     },
     "execution_count": 3,
     "metadata": {},
     "output_type": "execute_result"
    }
   ],
   "source": [
    "#import csv file\n",
    "df = pd.read_csv('data/cleaned_data.csv')\n",
    "df.head(1)"
   ]
  },
  {
   "cell_type": "code",
   "execution_count": 4,
   "metadata": {},
   "outputs": [
    {
     "data": {
      "text/html": [
       "<div>\n",
       "<style scoped>\n",
       "    .dataframe tbody tr th:only-of-type {\n",
       "        vertical-align: middle;\n",
       "    }\n",
       "\n",
       "    .dataframe tbody tr th {\n",
       "        vertical-align: top;\n",
       "    }\n",
       "\n",
       "    .dataframe thead th {\n",
       "        text-align: right;\n",
       "    }\n",
       "</style>\n",
       "<table border=\"1\" class=\"dataframe\">\n",
       "  <thead>\n",
       "    <tr style=\"text-align: right;\">\n",
       "      <th></th>\n",
       "      <th>video_id</th>\n",
       "      <th>views</th>\n",
       "      <th>likes</th>\n",
       "      <th>dislikes</th>\n",
       "      <th>comment_count</th>\n",
       "      <th>Country Code</th>\n",
       "    </tr>\n",
       "  </thead>\n",
       "  <tbody>\n",
       "    <tr>\n",
       "      <th>0</th>\n",
       "      <td>2kyS6SvSYSE</td>\n",
       "      <td>748374</td>\n",
       "      <td>57527</td>\n",
       "      <td>2966</td>\n",
       "      <td>15954</td>\n",
       "      <td>US</td>\n",
       "    </tr>\n",
       "  </tbody>\n",
       "</table>\n",
       "</div>"
      ],
      "text/plain": [
       "      video_id   views  likes  dislikes  comment_count Country Code\n",
       "0  2kyS6SvSYSE  748374  57527      2966          15954           US"
      ]
     },
     "execution_count": 4,
     "metadata": {},
     "output_type": "execute_result"
    }
   ],
   "source": [
    "#drop columns I know I will not be looking at\n",
    "df = df.drop(['Unnamed: 0', 'Unnamed: 0.1', 'trending_date', 'category_id', 'publish_time', 'Days to trend' ], axis=1)\n",
    "df.head(1)"
   ]
  },
  {
   "cell_type": "code",
   "execution_count": 5,
   "metadata": {},
   "outputs": [
    {
     "data": {
      "text/html": [
       "<div>\n",
       "<style scoped>\n",
       "    .dataframe tbody tr th:only-of-type {\n",
       "        vertical-align: middle;\n",
       "    }\n",
       "\n",
       "    .dataframe tbody tr th {\n",
       "        vertical-align: top;\n",
       "    }\n",
       "\n",
       "    .dataframe thead th {\n",
       "        text-align: right;\n",
       "    }\n",
       "</style>\n",
       "<table border=\"1\" class=\"dataframe\">\n",
       "  <thead>\n",
       "    <tr style=\"text-align: right;\">\n",
       "      <th></th>\n",
       "      <th>views</th>\n",
       "      <th>likes</th>\n",
       "      <th>dislikes</th>\n",
       "      <th>comment_count</th>\n",
       "      <th>Country Code</th>\n",
       "    </tr>\n",
       "    <tr>\n",
       "      <th>video_id</th>\n",
       "      <th></th>\n",
       "      <th></th>\n",
       "      <th></th>\n",
       "      <th></th>\n",
       "      <th></th>\n",
       "    </tr>\n",
       "  </thead>\n",
       "  <tbody>\n",
       "    <tr>\n",
       "      <th>--1skHapGUc</th>\n",
       "      <td>30914</td>\n",
       "      <td>483</td>\n",
       "      <td>77</td>\n",
       "      <td>81</td>\n",
       "      <td>MX</td>\n",
       "    </tr>\n",
       "  </tbody>\n",
       "</table>\n",
       "</div>"
      ],
      "text/plain": [
       "             views  likes  dislikes  comment_count Country Code\n",
       "video_id                                                       \n",
       "--1skHapGUc  30914    483        77             81           MX"
      ]
     },
     "execution_count": 5,
     "metadata": {},
     "output_type": "execute_result"
    }
   ],
   "source": [
    "#find the max values of views, likes, dislikes, and comments for each video_id\n",
    "df = pd.DataFrame(df.groupby(['video_id']).max())\n",
    "df.head(1)"
   ]
  },
  {
   "cell_type": "code",
   "execution_count": 6,
   "metadata": {},
   "outputs": [
    {
     "data": {
      "text/html": [
       "<div>\n",
       "<style scoped>\n",
       "    .dataframe tbody tr th:only-of-type {\n",
       "        vertical-align: middle;\n",
       "    }\n",
       "\n",
       "    .dataframe tbody tr th {\n",
       "        vertical-align: top;\n",
       "    }\n",
       "\n",
       "    .dataframe thead th {\n",
       "        text-align: right;\n",
       "    }\n",
       "</style>\n",
       "<table border=\"1\" class=\"dataframe\">\n",
       "  <thead>\n",
       "    <tr style=\"text-align: right;\">\n",
       "      <th></th>\n",
       "      <th>views</th>\n",
       "      <th>likes</th>\n",
       "      <th>dislikes</th>\n",
       "      <th>comment_count</th>\n",
       "      <th>Country Code</th>\n",
       "      <th>Total Likes and Dislikes</th>\n",
       "    </tr>\n",
       "    <tr>\n",
       "      <th>video_id</th>\n",
       "      <th></th>\n",
       "      <th></th>\n",
       "      <th></th>\n",
       "      <th></th>\n",
       "      <th></th>\n",
       "      <th></th>\n",
       "    </tr>\n",
       "  </thead>\n",
       "  <tbody>\n",
       "    <tr>\n",
       "      <th>--1skHapGUc</th>\n",
       "      <td>30914</td>\n",
       "      <td>483</td>\n",
       "      <td>77</td>\n",
       "      <td>81</td>\n",
       "      <td>MX</td>\n",
       "      <td>560</td>\n",
       "    </tr>\n",
       "  </tbody>\n",
       "</table>\n",
       "</div>"
      ],
      "text/plain": [
       "             views  likes  dislikes  comment_count Country Code  \\\n",
       "video_id                                                          \n",
       "--1skHapGUc  30914    483        77             81           MX   \n",
       "\n",
       "             Total Likes and Dislikes  \n",
       "video_id                               \n",
       "--1skHapGUc                       560  "
      ]
     },
     "execution_count": 6,
     "metadata": {},
     "output_type": "execute_result"
    }
   ],
   "source": [
    "#add column for total likes and dislikes\n",
    "df['Total Likes and Dislikes'] = df['likes'] + df['dislikes']\n",
    "df.head(1)"
   ]
  },
  {
   "cell_type": "code",
   "execution_count": 7,
   "metadata": {},
   "outputs": [
    {
     "data": {
      "text/html": [
       "<div>\n",
       "<style scoped>\n",
       "    .dataframe tbody tr th:only-of-type {\n",
       "        vertical-align: middle;\n",
       "    }\n",
       "\n",
       "    .dataframe tbody tr th {\n",
       "        vertical-align: top;\n",
       "    }\n",
       "\n",
       "    .dataframe thead th {\n",
       "        text-align: right;\n",
       "    }\n",
       "</style>\n",
       "<table border=\"1\" class=\"dataframe\">\n",
       "  <thead>\n",
       "    <tr style=\"text-align: right;\">\n",
       "      <th></th>\n",
       "      <th>views</th>\n",
       "      <th>likes</th>\n",
       "      <th>dislikes</th>\n",
       "      <th>comment_count</th>\n",
       "      <th>Country Code</th>\n",
       "      <th>Total Likes and Dislikes</th>\n",
       "      <th>Likes/Dislikes Ratio</th>\n",
       "    </tr>\n",
       "    <tr>\n",
       "      <th>video_id</th>\n",
       "      <th></th>\n",
       "      <th></th>\n",
       "      <th></th>\n",
       "      <th></th>\n",
       "      <th></th>\n",
       "      <th></th>\n",
       "      <th></th>\n",
       "    </tr>\n",
       "  </thead>\n",
       "  <tbody>\n",
       "    <tr>\n",
       "      <th>--1skHapGUc</th>\n",
       "      <td>30914</td>\n",
       "      <td>483</td>\n",
       "      <td>77</td>\n",
       "      <td>81</td>\n",
       "      <td>MX</td>\n",
       "      <td>560</td>\n",
       "      <td>6.272727</td>\n",
       "    </tr>\n",
       "  </tbody>\n",
       "</table>\n",
       "</div>"
      ],
      "text/plain": [
       "             views  likes  dislikes  comment_count Country Code  \\\n",
       "video_id                                                          \n",
       "--1skHapGUc  30914    483        77             81           MX   \n",
       "\n",
       "             Total Likes and Dislikes  Likes/Dislikes Ratio  \n",
       "video_id                                                     \n",
       "--1skHapGUc                       560              6.272727  "
      ]
     },
     "execution_count": 7,
     "metadata": {},
     "output_type": "execute_result"
    }
   ],
   "source": [
    "#add column for percentage of likes among likes/dislikes\n",
    "df['Likes/Dislikes Ratio'] = df['likes'] / df['dislikes']\n",
    "df.head(1)"
   ]
  },
  {
   "cell_type": "code",
   "execution_count": 8,
   "metadata": {},
   "outputs": [
    {
     "data": {
      "text/html": [
       "<div>\n",
       "<style scoped>\n",
       "    .dataframe tbody tr th:only-of-type {\n",
       "        vertical-align: middle;\n",
       "    }\n",
       "\n",
       "    .dataframe tbody tr th {\n",
       "        vertical-align: top;\n",
       "    }\n",
       "\n",
       "    .dataframe thead th {\n",
       "        text-align: right;\n",
       "    }\n",
       "</style>\n",
       "<table border=\"1\" class=\"dataframe\">\n",
       "  <thead>\n",
       "    <tr style=\"text-align: right;\">\n",
       "      <th></th>\n",
       "      <th>views</th>\n",
       "      <th>likes</th>\n",
       "      <th>dislikes</th>\n",
       "      <th>comment_count</th>\n",
       "      <th>Country Code</th>\n",
       "      <th>Total Likes and Dislikes</th>\n",
       "      <th>Likes/Dislikes Ratio</th>\n",
       "      <th>View per (dis)like</th>\n",
       "    </tr>\n",
       "    <tr>\n",
       "      <th>video_id</th>\n",
       "      <th></th>\n",
       "      <th></th>\n",
       "      <th></th>\n",
       "      <th></th>\n",
       "      <th></th>\n",
       "      <th></th>\n",
       "      <th></th>\n",
       "      <th></th>\n",
       "    </tr>\n",
       "  </thead>\n",
       "  <tbody>\n",
       "    <tr>\n",
       "      <th>--1skHapGUc</th>\n",
       "      <td>30914</td>\n",
       "      <td>483</td>\n",
       "      <td>77</td>\n",
       "      <td>81</td>\n",
       "      <td>MX</td>\n",
       "      <td>560</td>\n",
       "      <td>6.272727</td>\n",
       "      <td>55.2</td>\n",
       "    </tr>\n",
       "  </tbody>\n",
       "</table>\n",
       "</div>"
      ],
      "text/plain": [
       "             views  likes  dislikes  comment_count Country Code  \\\n",
       "video_id                                                          \n",
       "--1skHapGUc  30914    483        77             81           MX   \n",
       "\n",
       "             Total Likes and Dislikes  Likes/Dislikes Ratio  \\\n",
       "video_id                                                      \n",
       "--1skHapGUc                       560              6.272727   \n",
       "\n",
       "             View per (dis)like  \n",
       "video_id                         \n",
       "--1skHapGUc                55.2  "
      ]
     },
     "execution_count": 8,
     "metadata": {},
     "output_type": "execute_result"
    }
   ],
   "source": [
    "#add column for how many views each video received per like/dislike, rounded to two digits\n",
    "df['View per (dis)like'] = round(df['views'] / df['Total Likes and Dislikes'], 2)\n",
    "df.head(1)"
   ]
  },
  {
   "cell_type": "code",
   "execution_count": 9,
   "metadata": {},
   "outputs": [
    {
     "data": {
      "text/html": [
       "<div>\n",
       "<style scoped>\n",
       "    .dataframe tbody tr th:only-of-type {\n",
       "        vertical-align: middle;\n",
       "    }\n",
       "\n",
       "    .dataframe tbody tr th {\n",
       "        vertical-align: top;\n",
       "    }\n",
       "\n",
       "    .dataframe thead th {\n",
       "        text-align: right;\n",
       "    }\n",
       "</style>\n",
       "<table border=\"1\" class=\"dataframe\">\n",
       "  <thead>\n",
       "    <tr style=\"text-align: right;\">\n",
       "      <th></th>\n",
       "      <th>views</th>\n",
       "      <th>likes</th>\n",
       "      <th>dislikes</th>\n",
       "      <th>comment_count</th>\n",
       "      <th>Country Code</th>\n",
       "      <th>Total Likes and Dislikes</th>\n",
       "      <th>Likes/Dislikes Ratio</th>\n",
       "      <th>View per (dis)like</th>\n",
       "      <th>outliers</th>\n",
       "    </tr>\n",
       "    <tr>\n",
       "      <th>video_id</th>\n",
       "      <th></th>\n",
       "      <th></th>\n",
       "      <th></th>\n",
       "      <th></th>\n",
       "      <th></th>\n",
       "      <th></th>\n",
       "      <th></th>\n",
       "      <th></th>\n",
       "      <th></th>\n",
       "    </tr>\n",
       "  </thead>\n",
       "  <tbody>\n",
       "    <tr>\n",
       "      <th>--1skHapGUc</th>\n",
       "      <td>30914</td>\n",
       "      <td>483</td>\n",
       "      <td>77</td>\n",
       "      <td>81</td>\n",
       "      <td>MX</td>\n",
       "      <td>560</td>\n",
       "      <td>6.272727</td>\n",
       "      <td>55.2</td>\n",
       "      <td>False</td>\n",
       "    </tr>\n",
       "  </tbody>\n",
       "</table>\n",
       "</div>"
      ],
      "text/plain": [
       "             views  likes  dislikes  comment_count Country Code  \\\n",
       "video_id                                                          \n",
       "--1skHapGUc  30914    483        77             81           MX   \n",
       "\n",
       "             Total Likes and Dislikes  Likes/Dislikes Ratio  \\\n",
       "video_id                                                      \n",
       "--1skHapGUc                       560              6.272727   \n",
       "\n",
       "             View per (dis)like  outliers  \n",
       "video_id                                   \n",
       "--1skHapGUc                55.2     False  "
      ]
     },
     "execution_count": 9,
     "metadata": {},
     "output_type": "execute_result"
    }
   ],
   "source": [
    "#find outliers for number of views\n",
    "views_q1 = np.percentile(df['views'], 25) #find lower and upper quartiles \n",
    "views_q3 = np.percentile(df['views'], 75)\n",
    "views_qrange = (views_q3 - views_q1) #find interquartile range\n",
    "views_lower =  views_q1 - (1.5 * views_qrange) #lower boundry\n",
    "views_upper = views_q3 + (1.5 * views_qrange) #upper boundry\n",
    "df['outliers'] = (df['views'] < views_lower) | (df['views'] > views_upper) #find outliers\n",
    "df = df[df['outliers'] == False]\n",
    "df.head(1)\n"
   ]
  },
  {
   "cell_type": "code",
   "execution_count": 10,
   "metadata": {},
   "outputs": [
    {
     "data": {
      "text/html": [
       "<div>\n",
       "<style scoped>\n",
       "    .dataframe tbody tr th:only-of-type {\n",
       "        vertical-align: middle;\n",
       "    }\n",
       "\n",
       "    .dataframe tbody tr th {\n",
       "        vertical-align: top;\n",
       "    }\n",
       "\n",
       "    .dataframe thead th {\n",
       "        text-align: right;\n",
       "    }\n",
       "</style>\n",
       "<table border=\"1\" class=\"dataframe\">\n",
       "  <thead>\n",
       "    <tr style=\"text-align: right;\">\n",
       "      <th></th>\n",
       "      <th>views</th>\n",
       "      <th>likes</th>\n",
       "      <th>dislikes</th>\n",
       "      <th>comment_count</th>\n",
       "      <th>Country Code</th>\n",
       "      <th>Total Likes and Dislikes</th>\n",
       "      <th>Likes/Dislikes Ratio</th>\n",
       "      <th>View per (dis)like</th>\n",
       "      <th>outliers</th>\n",
       "    </tr>\n",
       "    <tr>\n",
       "      <th>video_id</th>\n",
       "      <th></th>\n",
       "      <th></th>\n",
       "      <th></th>\n",
       "      <th></th>\n",
       "      <th></th>\n",
       "      <th></th>\n",
       "      <th></th>\n",
       "      <th></th>\n",
       "      <th></th>\n",
       "    </tr>\n",
       "  </thead>\n",
       "  <tbody>\n",
       "    <tr>\n",
       "      <th>--1skHapGUc</th>\n",
       "      <td>30914</td>\n",
       "      <td>483</td>\n",
       "      <td>77</td>\n",
       "      <td>81</td>\n",
       "      <td>MX</td>\n",
       "      <td>560</td>\n",
       "      <td>6.272727</td>\n",
       "      <td>55.2</td>\n",
       "      <td>False</td>\n",
       "    </tr>\n",
       "  </tbody>\n",
       "</table>\n",
       "</div>"
      ],
      "text/plain": [
       "             views  likes  dislikes  comment_count Country Code  \\\n",
       "video_id                                                          \n",
       "--1skHapGUc  30914    483        77             81           MX   \n",
       "\n",
       "             Total Likes and Dislikes  Likes/Dislikes Ratio  \\\n",
       "video_id                                                      \n",
       "--1skHapGUc                       560              6.272727   \n",
       "\n",
       "             View per (dis)like  outliers  \n",
       "video_id                                   \n",
       "--1skHapGUc                55.2     False  "
      ]
     },
     "execution_count": 10,
     "metadata": {},
     "output_type": "execute_result"
    }
   ],
   "source": [
    "#find outliers for Likes/Dislikes ratio\n",
    "ratio_q1 = np.percentile(df['Likes/Dislikes Ratio'], 25) #find lower and upper quartiles \n",
    "ratio_q3 = np.percentile(df['Likes/Dislikes Ratio'], 75)\n",
    "ratio_qrange = (ratio_q3 - ratio_q1) #find interquartile range\n",
    "ratio_lower =  ratio_q1 - (1.5 * ratio_qrange) #lower boundry\n",
    "ratio_upper = ratio_q3 + (1.5 * ratio_qrange) #upper boundry\n",
    "df['outliers'] = (df['Likes/Dislikes Ratio'] < ratio_lower) |(df['Likes/Dislikes Ratio'] > ratio_upper) #find outliers\n",
    "df = df[df['outliers'] == False]\n",
    "df.head(1)"
   ]
  },
  {
   "cell_type": "code",
   "execution_count": 11,
   "metadata": {},
   "outputs": [],
   "source": [
    "#pull random sample of 600 row index numbers of the df\n",
    "random_index = np.random.uniform(low=0, high=(len(df) - 1), size=600) #find 600 random numbers\n",
    "random_index1 = [] #round each number to 0 decimals \n",
    "for x in random_index: \n",
    "    b = round(x, 0)\n",
    "    random_index1.append(b)\n",
    "random_index = [] #clear original list\n",
    "for x in random_index1: #convert list into integers\n",
    "    random_index.append(int(x))\n",
    "views = [] #crete empty lists for each category we will be charting\n",
    "likes_ratio = []\n",
    "view_per_like = []\n",
    "\n",
    "for x in random_index: #for each random number in my list, pull the row index into a list\n",
    "    views.append(df['views'][x])\n",
    "    likes_ratio.append(df['Likes/Dislikes Ratio'][x])\n",
    "    view_per_like.append(df['View per (dis)like'][x])\n"
   ]
  },
  {
   "cell_type": "code",
   "execution_count": 12,
   "metadata": {},
   "outputs": [
    {
     "name": "stdout",
     "output_type": "stream",
     "text": [
      "0.7394071340074603, 0.8488668766332965, 0.21268261239025948\n"
     ]
    }
   ],
   "source": [
    "#check if data is a good representation of the overall population\n",
    "_, view_p = stats.ttest_1samp(views, df['views'].mean())\n",
    "_, like_p = stats.ttest_1samp(likes_ratio, df['Likes/Dislikes Ratio'].mean())\n",
    "_, per_p = stats.ttest_1samp(view_per_like, df['View per (dis)like'].mean())\n",
    "print(f'{view_p}, {like_p}, {per_p}') #as long as each printed value is above 0.05 we can NOT reject the null hypothesis of the sample being from a different population"
   ]
  },
  {
   "cell_type": "code",
   "execution_count": 13,
   "metadata": {},
   "outputs": [
    {
     "data": {
      "image/png": "[encoded data removed]",
      "text/plain": [
       "<Figure size 432x288 with 1 Axes>"
      ]
     },
     "metadata": {
      "needs_background": "light"
     },
     "output_type": "display_data"
    }
   ],
   "source": [
    "#create scatter plot comparing views to the ratio of likes to dislikes\n",
    "plt.scatter(view_per_like, views)\n",
    "plt.ylim(df['views'].min(), df['views'].max())\n",
    "plt.xlim(df['Likes/Dislikes Ratio'].min(), df['Likes/Dislikes Ratio'].max())\n",
    "plt.xlabel('Ratio of Likes to Dislikes')\n",
    "plt.ylabel('Views')\n",
    "plt.title('Number of video views vs the ratio of likes to dislikes')\n",
    "plt.savefig('images/viewsvsratio.png')\n",
    "plt.show()"
   ]
  },
  {
   "cell_type": "code",
   "execution_count": 14,
   "metadata": {},
   "outputs": [
    {
     "data": {
      "image/png": "[encoded data removed]",
      "text/plain": [
       "<Figure size 432x288 with 1 Axes>"
      ]
     },
     "metadata": {
      "needs_background": "light"
     },
     "output_type": "display_data"
    }
   ],
   "source": [
    "plt.scatter(view_per_like, likes_ratio)\n",
    "plt.ylabel('Ratio of Likes to Dislikes')\n",
    "plt.xlabel('Views Per Like or Dislike')\n",
    "plt.xlim(df['Likes/Dislikes Ratio'].min(), df['Likes/Dislikes Ratio'].max())\n",
    "plt.title('Number of views per like or dislike vs the ratio of likes to dislikes')\n",
    "plt.savefig('images/perlikevsratio.png')\n",
    "#plt.ylim(df['View per (dis)like'].min(), df['View per (dis)like'].max())\n",
    "plt.show()"
   ]
  },
  {
   "cell_type": "code",
   "execution_count": null,
   "metadata": {},
   "outputs": [],
   "source": []
  }
 ],
 "metadata": {
  "kernelspec": {
   "display_name": "Python 3",
   "language": "python",
   "name": "python3"
  },
  "language_info": {
   "codemirror_mode": {
    "name": "ipython",
    "version": 3
   },
   "file_extension": ".py",
   "mimetype": "text/x-python",
   "name": "python",
   "nbconvert_exporter": "python",
   "pygments_lexer": "ipython3",
   "version": "3.7.3"
  }
 },
 "nbformat": 4,
 "nbformat_minor": 2
}
